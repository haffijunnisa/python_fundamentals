{
 "cells": [
  {
   "cell_type": "code",
   "execution_count": null,
   "id": "7200d28a-3bf3-4e2d-bd0b-1f0da89cee6d",
   "metadata": {},
   "outputs": [],
   "source": [
    "organising the list datatype :"
   ]
  },
  {
   "cell_type": "code",
   "execution_count": 1,
   "id": "c8ee2473-8faf-4f2e-8a55-9e8b2183a9d7",
   "metadata": {},
   "outputs": [],
   "source": [
    "cars = ['benz','maruthi','audi','suzuki','bmw','kia','byd','telsa','volksvogon']"
   ]
  },
  {
   "cell_type": "code",
   "execution_count": 2,
   "id": "f1e6c033-3e0d-49b9-9afc-99fc20b0aff6",
   "metadata": {},
   "outputs": [
    {
     "name": "stdout",
     "output_type": "stream",
     "text": [
      "['benz', 'maruthi', 'audi', 'suzuki', 'bmw', 'kia', 'byd', 'telsa', 'volksvogon']\n"
     ]
    }
   ],
   "source": [
    "print(cars)"
   ]
  },
  {
   "cell_type": "code",
   "execution_count": null,
   "id": "1aa1094b-bcd9-4828-b256-c65eb71efabc",
   "metadata": {},
   "outputs": [],
   "source": [
    "# req : A-Z order"
   ]
  },
  {
   "cell_type": "code",
   "execution_count": 3,
   "id": "f4a37029-fd2b-4243-ac12-3887c187691b",
   "metadata": {},
   "outputs": [
    {
     "name": "stdout",
     "output_type": "stream",
     "text": [
      "['audi', 'benz', 'bmw', 'byd', 'kia', 'maruthi', 'suzuki', 'telsa', 'volksvogon']\n"
     ]
    }
   ],
   "source": [
    "print(sorted(cars))"
   ]
  },
  {
   "cell_type": "code",
   "execution_count": 4,
   "id": "4f80ae26-83c6-4243-96c4-611fd620086f",
   "metadata": {},
   "outputs": [
    {
     "name": "stdout",
     "output_type": "stream",
     "text": [
      "['benz', 'maruthi', 'audi', 'suzuki', 'bmw', 'kia', 'byd', 'telsa', 'volksvogon']\n"
     ]
    }
   ],
   "source": [
    "print(cars) # orginal order"
   ]
  },
  {
   "cell_type": "code",
   "execution_count": 5,
   "id": "6b050f16-eef6-4147-850c-8148aeca98c6",
   "metadata": {},
   "outputs": [],
   "source": [
    "cars.sort()"
   ]
  },
  {
   "cell_type": "code",
   "execution_count": 6,
   "id": "06049996-5948-438b-af32-a2dea6d8f55c",
   "metadata": {},
   "outputs": [
    {
     "name": "stdout",
     "output_type": "stream",
     "text": [
      "['audi', 'benz', 'bmw', 'byd', 'kia', 'maruthi', 'suzuki', 'telsa', 'volksvogon']\n"
     ]
    }
   ],
   "source": [
    "print(cars)"
   ]
  },
  {
   "cell_type": "code",
   "execution_count": 7,
   "id": "12766309-059e-4f44-9f0f-baeb7a5a11f9",
   "metadata": {},
   "outputs": [
    {
     "data": {
      "text/plain": [
       "9"
      ]
     },
     "execution_count": 7,
     "metadata": {},
     "output_type": "execute_result"
    }
   ],
   "source": [
    "len(cars)"
   ]
  },
  {
   "cell_type": "code",
   "execution_count": null,
   "id": "d020435a-2ccf-4382-9930-452e8f11cb4b",
   "metadata": {},
   "outputs": [],
   "source": [
    "# req :Z-A"
   ]
  },
  {
   "cell_type": "code",
   "execution_count": 8,
   "id": "4c1999ea-4112-49e0-81b1-f8b4fee0fceb",
   "metadata": {},
   "outputs": [],
   "source": [
    "cars.reverse()"
   ]
  },
  {
   "cell_type": "code",
   "execution_count": 9,
   "id": "1d7888be-bb4f-45fd-8e80-07d9adc02405",
   "metadata": {},
   "outputs": [
    {
     "name": "stdout",
     "output_type": "stream",
     "text": [
      "['volksvogon', 'telsa', 'suzuki', 'maruthi', 'kia', 'byd', 'bmw', 'benz', 'audi']\n"
     ]
    }
   ],
   "source": [
    "print(cars)"
   ]
  },
  {
   "cell_type": "code",
   "execution_count": null,
   "id": "0b94942e-964e-4d93-a9d4-01c3fff83e69",
   "metadata": {},
   "outputs": [],
   "source": [
    "Introduction to slicing :"
   ]
  },
  {
   "cell_type": "code",
   "execution_count": null,
   "id": "973f5354-2b1f-49b7-8728-4fd471dabd56",
   "metadata": {},
   "outputs": [],
   "source": [
    "# General syntax of slicing"
   ]
  },
  {
   "cell_type": "code",
   "execution_count": null,
   "id": "8382afac-d4ac-44ed-8af5-875e6a826c7f",
   "metadata": {},
   "outputs": [],
   "source": [
    "[start_value:stop_value:step_count]"
   ]
  },
  {
   "cell_type": "code",
   "execution_count": 10,
   "id": "f21cabc5-b505-420d-86b9-68749199914f",
   "metadata": {},
   "outputs": [],
   "source": [
    "students = ['adithi','naveen','keerthi','nowman','joseph','harika','parveen']"
   ]
  },
  {
   "cell_type": "code",
   "execution_count": 11,
   "id": "29a8aab3-06a4-49bc-9773-4d40be05af5f",
   "metadata": {},
   "outputs": [
    {
     "name": "stdout",
     "output_type": "stream",
     "text": [
      "['adithi', 'naveen', 'keerthi', 'nowman', 'joseph', 'harika', 'parveen']\n"
     ]
    }
   ],
   "source": [
    "print(students)"
   ]
  },
  {
   "cell_type": "code",
   "execution_count": 12,
   "id": "efb82677-ff68-473a-b70e-91077d276273",
   "metadata": {},
   "outputs": [
    {
     "name": "stdout",
     "output_type": "stream",
     "text": [
      "['adithi']\n"
     ]
    }
   ],
   "source": [
    "print(students[0:1])"
   ]
  },
  {
   "cell_type": "code",
   "execution_count": 13,
   "id": "79952b29-8090-4aa3-9192-e5b1bdf6ebc1",
   "metadata": {},
   "outputs": [
    {
     "name": "stdout",
     "output_type": "stream",
     "text": [
      "['adithi', 'naveen']\n"
     ]
    }
   ],
   "source": [
    "print(students[0:2])"
   ]
  },
  {
   "cell_type": "code",
   "execution_count": 14,
   "id": "2f66713f-4bd2-44b9-86cf-877056d7d40b",
   "metadata": {},
   "outputs": [
    {
     "name": "stdout",
     "output_type": "stream",
     "text": [
      "['keerthi', 'nowman']\n"
     ]
    }
   ],
   "source": [
    "print(students[2:4])"
   ]
  },
  {
   "cell_type": "code",
   "execution_count": 15,
   "id": "d265904d-bb3e-4af0-9014-489449c3d9b3",
   "metadata": {},
   "outputs": [
    {
     "name": "stdout",
     "output_type": "stream",
     "text": [
      "['joseph', 'harika']\n"
     ]
    }
   ],
   "source": [
    "print(students[4:6])"
   ]
  },
  {
   "cell_type": "code",
   "execution_count": 16,
   "id": "041d81b9-d784-428d-9fab-7ee7c6c02c12",
   "metadata": {},
   "outputs": [
    {
     "name": "stdout",
     "output_type": "stream",
     "text": [
      "['parveen']\n"
     ]
    }
   ],
   "source": [
    "print(students[6:8])"
   ]
  },
  {
   "cell_type": "code",
   "execution_count": 17,
   "id": "cdc42751-f7ef-4c7f-97af-baa1c20c8828",
   "metadata": {},
   "outputs": [],
   "source": [
    "students[2] = 'salma'"
   ]
  },
  {
   "cell_type": "code",
   "execution_count": 18,
   "id": "6ff1e302-9d6a-4301-81d1-a4187d97bf90",
   "metadata": {},
   "outputs": [
    {
     "name": "stdout",
     "output_type": "stream",
     "text": [
      "['adithi', 'naveen', 'salma', 'nowman', 'joseph', 'harika', 'parveen']\n"
     ]
    }
   ],
   "source": [
    "print(students)"
   ]
  },
  {
   "cell_type": "code",
   "execution_count": 19,
   "id": "23508e33-093d-425d-9994-38ceea0366c9",
   "metadata": {},
   "outputs": [
    {
     "name": "stdout",
     "output_type": "stream",
     "text": [
      "['parveen']\n"
     ]
    }
   ],
   "source": [
    "print(students[6:8])"
   ]
  },
  {
   "cell_type": "code",
   "execution_count": 20,
   "id": "7354c77b-538d-47c9-8810-718eea05abac",
   "metadata": {},
   "outputs": [
    {
     "name": "stdout",
     "output_type": "stream",
     "text": [
      "['adithi', 'salma', 'joseph']\n"
     ]
    }
   ],
   "source": [
    "print(students[0:6:2])"
   ]
  },
  {
   "cell_type": "code",
   "execution_count": null,
   "id": "862d6bb6-9d55-4daf-9a5b-26c2a63e0c20",
   "metadata": {},
   "outputs": [],
   "source": []
  },
  {
   "cell_type": "code",
   "execution_count": null,
   "id": "1f3a1f41-b55a-46e2-8b35-64fd0a07e8c0",
   "metadata": {},
   "outputs": [],
   "source": []
  }
 ],
 "metadata": {
  "kernelspec": {
   "display_name": "Python 3 (ipykernel)",
   "language": "python",
   "name": "python3"
  },
  "language_info": {
   "codemirror_mode": {
    "name": "ipython",
    "version": 3
   },
   "file_extension": ".py",
   "mimetype": "text/x-python",
   "name": "python",
   "nbconvert_exporter": "python",
   "pygments_lexer": "ipython3",
   "version": "3.12.4"
  }
 },
 "nbformat": 4,
 "nbformat_minor": 5
}
