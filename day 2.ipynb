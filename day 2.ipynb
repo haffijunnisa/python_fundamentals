{
 "cells": [
  {
   "cell_type": "code",
   "execution_count": null,
   "id": "2d8168f1-514d-4a89-8dca-8820beea672b",
   "metadata": {},
   "outputs": [],
   "source": [
    "introduction to python programming:"
   ]
  },
  {
   "cell_type": "code",
   "execution_count": null,
   "id": "c03bcb1e-7c22-494b-9f0a-414435b96d10",
   "metadata": {},
   "outputs": [],
   "source": []
  },
  {
   "cell_type": "code",
   "execution_count": null,
   "id": "8ed67a9c-856f-4d27-bf6e-9e11d1f47d11",
   "metadata": {},
   "outputs": [],
   "source": [
    "understanding the variable in python :"
   ]
  },
  {
   "cell_type": "code",
   "execution_count": 1,
   "id": "cd529989-3e95-4c48-95e2-e414969fabd9",
   "metadata": {},
   "outputs": [],
   "source": [
    "x = 2\n",
    "y = 3"
   ]
  },
  {
   "cell_type": "code",
   "execution_count": 2,
   "id": "fa50a556-e671-45be-96de-d0490f579ed7",
   "metadata": {},
   "outputs": [
    {
     "name": "stdout",
     "output_type": "stream",
     "text": [
      "5\n"
     ]
    }
   ],
   "source": [
    "z = x+y\n",
    "print(z)"
   ]
  },
  {
   "cell_type": "code",
   "execution_count": null,
   "id": "bed44323-f9e8-429f-8466-17a8bc469504",
   "metadata": {},
   "outputs": [],
   "source": [
    "Rules for declaring the variable in python :"
   ]
  },
  {
   "cell_type": "code",
   "execution_count": null,
   "id": "cc867edc-67e3-4b95-a23a-f7c7acbbd037",
   "metadata": {},
   "outputs": [],
   "source": [
    "Rule No 1 : No Namespaces for declaring the variables in python."
   ]
  },
  {
   "cell_type": "code",
   "execution_count": 3,
   "id": "df259565-e684-49a0-8484-52c0215900eb",
   "metadata": {},
   "outputs": [
    {
     "ename": "SyntaxError",
     "evalue": "invalid syntax (2642777287.py, line 1)",
     "output_type": "error",
     "traceback": [
      "\u001b[1;36m  Cell \u001b[1;32mIn[3], line 1\u001b[1;36m\u001b[0m\n\u001b[1;33m    first name = 'Faiyaz'\u001b[0m\n\u001b[1;37m          ^\u001b[0m\n\u001b[1;31mSyntaxError\u001b[0m\u001b[1;31m:\u001b[0m invalid syntax\n"
     ]
    }
   ],
   "source": [
    "first name = 'Faiyaz'\n",
    "print(first name)"
   ]
  },
  {
   "cell_type": "code",
   "execution_count": 4,
   "id": "36e1839f-a2c5-4d01-a1d6-f1071eaf3b57",
   "metadata": {},
   "outputs": [
    {
     "name": "stdout",
     "output_type": "stream",
     "text": [
      "faiyaz\n"
     ]
    }
   ],
   "source": [
    "firstname = 'faiyaz'\n",
    "print(firstname)"
   ]
  },
  {
   "cell_type": "code",
   "execution_count": null,
   "id": "84603b02-ebd8-4dc6-8e87-43ad7afd3400",
   "metadata": {},
   "outputs": [],
   "source": [
    "Rull no 2 : A variable name should not start with a number ***"
   ]
  },
  {
   "cell_type": "code",
   "execution_count": 1,
   "id": "d4caa5b5-227f-4dfb-ba9e-c318cd6469b1",
   "metadata": {},
   "outputs": [
    {
     "ename": "SyntaxError",
     "evalue": "invalid decimal literal (860642365.py, line 1)",
     "output_type": "error",
     "traceback": [
      "\u001b[1;36m  Cell \u001b[1;32mIn[1], line 1\u001b[1;36m\u001b[0m\n\u001b[1;33m    1name = 'arvind'\u001b[0m\n\u001b[1;37m    ^\u001b[0m\n\u001b[1;31mSyntaxError\u001b[0m\u001b[1;31m:\u001b[0m invalid decimal literal\n"
     ]
    }
   ],
   "source": [
    "1name = 'arvind'\n",
    "print(1name)"
   ]
  },
  {
   "cell_type": "code",
   "execution_count": 2,
   "id": "ae7c2ea9-0635-49ff-bc2e-f3dea5c605fd",
   "metadata": {},
   "outputs": [
    {
     "name": "stdout",
     "output_type": "stream",
     "text": [
      "arvind\n"
     ]
    }
   ],
   "source": [
    "name1 = 'arvind'\n",
    "print(name1)\n"
   ]
  },
  {
   "cell_type": "code",
   "execution_count": 3,
   "id": "1ac3d9e8-3ae2-41be-ab1f-71839c318219",
   "metadata": {},
   "outputs": [
    {
     "ename": "SyntaxError",
     "evalue": "invalid syntax (1094981030.py, line 1)",
     "output_type": "error",
     "traceback": [
      "\u001b[1;36m  Cell \u001b[1;32mIn[3], line 1\u001b[1;36m\u001b[0m\n\u001b[1;33m    name@ = 'naveen'\u001b[0m\n\u001b[1;37m          ^\u001b[0m\n\u001b[1;31mSyntaxError\u001b[0m\u001b[1;31m:\u001b[0m invalid syntax\n"
     ]
    }
   ],
   "source": [
    "name@ = 'naveen'\n",
    "print(name)"
   ]
  },
  {
   "cell_type": "code",
   "execution_count": null,
   "id": "f3802dcc-125d-47dc-b3dd-a27ddb7e3943",
   "metadata": {},
   "outputs": [],
   "source": [
    "introduction to srings datatypes :"
   ]
  },
  {
   "cell_type": "code",
   "execution_count": 1,
   "id": "09bfc587-b01a-461f-b713-80b204352fa8",
   "metadata": {},
   "outputs": [
    {
     "name": "stdout",
     "output_type": "stream",
     "text": [
      "arbarz\n"
     ]
    }
   ],
   "source": [
    "name = 'arbarz'#single quotes\n",
    "print(name)"
   ]
  },
  {
   "cell_type": "code",
   "execution_count": 2,
   "id": "c4f68f53-b1ae-46cb-805f-c8a7ccb3900a",
   "metadata": {},
   "outputs": [
    {
     "name": "stdout",
     "output_type": "stream",
     "text": [
      "kiran\n"
     ]
    }
   ],
   "source": [
    "name2 = \"kiran\" #double quotes\n",
    "print(name2)"
   ]
  },
  {
   "cell_type": "code",
   "execution_count": null,
   "id": "3573c6ff-0c92-4105-b810-8ca366542ba0",
   "metadata": {},
   "outputs": [],
   "source": [
    "introduction to strings methods :"
   ]
  },
  {
   "cell_type": "code",
   "execution_count": 3,
   "id": "963a3334-2b13-4329-97ef-b3c55968ed5a",
   "metadata": {},
   "outputs": [
    {
     "data": {
      "text/plain": [
       "str"
      ]
     },
     "execution_count": 3,
     "metadata": {},
     "output_type": "execute_result"
    }
   ],
   "source": [
    "type(name)"
   ]
  },
  {
   "cell_type": "code",
   "execution_count": 4,
   "id": "ef2f3bad-43a3-44b1-900c-43f9761ca304",
   "metadata": {},
   "outputs": [
    {
     "data": {
      "text/plain": [
       "str"
      ]
     },
     "execution_count": 4,
     "metadata": {},
     "output_type": "execute_result"
    }
   ],
   "source": [
    "type(name2)"
   ]
  },
  {
   "cell_type": "code",
   "execution_count": 6,
   "id": "3b227c8c-17c3-415e-b4f9-2274057aa153",
   "metadata": {},
   "outputs": [
    {
     "name": "stdout",
     "output_type": "stream",
     "text": [
      "shiva kumar\n"
     ]
    }
   ],
   "source": [
    "fullname = \"shiva kumar\"\n",
    "print(fullname)"
   ]
  },
  {
   "cell_type": "code",
   "execution_count": null,
   "id": "0dd42e40-734b-4034-b431-2f3edb2574d0",
   "metadata": {},
   "outputs": [],
   "source": [
    "# req: i want to correct the format...?"
   ]
  },
  {
   "cell_type": "code",
   "execution_count": 7,
   "id": "d9b34d1d-ccb1-4704-9360-aaa9d72de08e",
   "metadata": {},
   "outputs": [
    {
     "name": "stdout",
     "output_type": "stream",
     "text": [
      "Shiva Kumar\n"
     ]
    }
   ],
   "source": [
    "print(fullname.title())"
   ]
  },
  {
   "cell_type": "code",
   "execution_count": 8,
   "id": "9d763d6a-b6cb-4d54-a159-cf7f97349e0d",
   "metadata": {},
   "outputs": [
    {
     "name": "stdout",
     "output_type": "stream",
     "text": [
      "SHIVA KUMAR\n"
     ]
    }
   ],
   "source": [
    "print(fullname.upper())"
   ]
  },
  {
   "cell_type": "code",
   "execution_count": 9,
   "id": "296cc3f8-bf5f-46cc-97b9-fddedcbee0be",
   "metadata": {},
   "outputs": [
    {
     "name": "stdout",
     "output_type": "stream",
     "text": [
      "shiva kumar\n"
     ]
    }
   ],
   "source": [
    "print(fullname.lower())"
   ]
  },
  {
   "cell_type": "code",
   "execution_count": null,
   "id": "bec38834-1310-41a6-8cef-3bdafbab8fb1",
   "metadata": {},
   "outputs": [],
   "source": []
  },
  {
   "cell_type": "code",
   "execution_count": null,
   "id": "15737904-a1b0-4aa4-ab0b-caab7e87794c",
   "metadata": {},
   "outputs": [],
   "source": []
  },
  {
   "cell_type": "code",
   "execution_count": null,
   "id": "8b1970e4-9515-4d49-a4be-4cbe4216c915",
   "metadata": {},
   "outputs": [],
   "source": []
  }
 ],
 "metadata": {
  "kernelspec": {
   "display_name": "Python 3 (ipykernel)",
   "language": "python",
   "name": "python3"
  },
  "language_info": {
   "codemirror_mode": {
    "name": "ipython",
    "version": 3
   },
   "file_extension": ".py",
   "mimetype": "text/x-python",
   "name": "python",
   "nbconvert_exporter": "python",
   "pygments_lexer": "ipython3",
   "version": "3.12.4"
  }
 },
 "nbformat": 4,
 "nbformat_minor": 5
}
