{
 "cells": [
  {
   "cell_type": "code",
   "execution_count": null,
   "id": "1577106a-14cf-4cbd-88eb-45eca5a95604",
   "metadata": {},
   "outputs": [],
   "source": [
    "introduction to looping  statement :"
   ]
  },
  {
   "cell_type": "code",
   "execution_count": null,
   "id": "6db6c5dd-0f4b-4c8b-a9d7-f8ed22bfbe32",
   "metadata": {},
   "outputs": [],
   "source": [
    "# for loop"
   ]
  },
  {
   "cell_type": "code",
   "execution_count": null,
   "id": "008a6178-76ed-4aad-b602-f9505487c13d",
   "metadata": {},
   "outputs": [],
   "source": [
    "# general syntax of for loop :"
   ]
  },
  {
   "cell_type": "code",
   "execution_count": null,
   "id": "bafafb74-b1cd-441a-a00a-753f05ff09d6",
   "metadata": {},
   "outputs": [],
   "source": [
    "for tempvar in mainvar:\n",
    "    print(tempvar)"
   ]
  },
  {
   "cell_type": "code",
   "execution_count": 1,
   "id": "d2cf9e42-0648-4d77-b9b0-408826c64904",
   "metadata": {},
   "outputs": [],
   "source": [
    "students = ['naveen','amer','udey','sameer','anusha','bushra','kiran']"
   ]
  },
  {
   "cell_type": "code",
   "execution_count": 2,
   "id": "7a149f53-74ae-401a-b830-e01d517bb70f",
   "metadata": {},
   "outputs": [
    {
     "name": "stdout",
     "output_type": "stream",
     "text": [
      "['naveen', 'amer', 'udey', 'sameer', 'anusha', 'bushra', 'kiran']\n"
     ]
    }
   ],
   "source": [
    "print(students)"
   ]
  },
  {
   "cell_type": "code",
   "execution_count": 3,
   "id": "e59aefb3-c784-4849-8399-bdc7cb8b7065",
   "metadata": {},
   "outputs": [
    {
     "name": "stdout",
     "output_type": "stream",
     "text": [
      "keep up the good work,Naveen\n"
     ]
    }
   ],
   "source": [
    "print(f\"keep up the good work,{students[0].title()}\")"
   ]
  },
  {
   "cell_type": "code",
   "execution_count": 4,
   "id": "6d2de49b-ac30-4709-8e8e-4ca0cd5cc8f5",
   "metadata": {},
   "outputs": [
    {
     "name": "stdout",
     "output_type": "stream",
     "text": [
      "keep up the good work,Amer\n"
     ]
    }
   ],
   "source": [
    "print(f\"keep up the good work,{students[1].title()}\")"
   ]
  },
  {
   "cell_type": "code",
   "execution_count": 5,
   "id": "65ba8847-b21e-4d71-875b-65c42f71f293",
   "metadata": {
    "scrolled": true
   },
   "outputs": [
    {
     "name": "stdout",
     "output_type": "stream",
     "text": [
      "keep up the good work,Naveen\n",
      "keep up the good work,Amer\n",
      "keep up the good work,Udey\n",
      "keep up the good work,Sameer\n",
      "keep up the good work,Anusha\n",
      "keep up the good work,Bushra\n",
      "keep up the good work,Kiran\n"
     ]
    }
   ],
   "source": [
    "for student in students:\n",
    "    print(f\"keep up the good work,{student.title()}\")"
   ]
  },
  {
   "cell_type": "code",
   "execution_count": 6,
   "id": "c2236aaa-564b-492b-8b21-937462332ffc",
   "metadata": {},
   "outputs": [
    {
     "name": "stdout",
     "output_type": "stream",
     "text": [
      "keep up the good work,Naveen\n",
      "keep up the good work,Amer\n",
      "keep up the good work,Udey\n",
      "keep up the good work,Sameer\n",
      "keep up the good work,Anusha\n",
      "keep up the good work,Bushra\n",
      "keep up the good work,Kiran\n"
     ]
    }
   ],
   "source": [
    "for a in students:\n",
    "    print(f\"keep up the good work,{a.title()}\")"
   ]
  },
  {
   "cell_type": "code",
   "execution_count": 7,
   "id": "63fda471-1a06-4ce7-bade-78f3efffeecf",
   "metadata": {},
   "outputs": [
    {
     "ename": "IndentationError",
     "evalue": "expected an indented block after 'for' statement on line 1 (3041224169.py, line 2)",
     "output_type": "error",
     "traceback": [
      "\u001b[1;36m  Cell \u001b[1;32mIn[7], line 2\u001b[1;36m\u001b[0m\n\u001b[1;33m    print(f\"keep up the good work,{a.title()}\")\u001b[0m\n\u001b[1;37m    ^\u001b[0m\n\u001b[1;31mIndentationError\u001b[0m\u001b[1;31m:\u001b[0m expected an indented block after 'for' statement on line 1\n"
     ]
    }
   ],
   "source": [
    "for a in students:\n",
    "print(f\"keep up the good work,{a.title()}\")"
   ]
  },
  {
   "cell_type": "code",
   "execution_count": null,
   "id": "3de76075-84e7-4d7a-88fd-8fbd0929a28d",
   "metadata": {},
   "outputs": [],
   "source": [
    "for tempvar in mainvar:\n",
    "    print(tempvar)"
   ]
  },
  {
   "cell_type": "code",
   "execution_count": 8,
   "id": "b6d6567e-175a-4c8d-9e15-c056e953f63e",
   "metadata": {},
   "outputs": [
    {
     "name": "stdout",
     "output_type": "stream",
     "text": [
      "naveen\n",
      "amer\n",
      "udey\n",
      "sameer\n",
      "anusha\n",
      "bushra\n",
      "kiran\n"
     ]
    }
   ],
   "source": [
    "for ironman in students:\n",
    "    print(ironman)"
   ]
  },
  {
   "cell_type": "code",
   "execution_count": 9,
   "id": "5aaaf6ad-66e1-40d0-acb9-7e264019ee55",
   "metadata": {},
   "outputs": [
    {
     "name": "stdout",
     "output_type": "stream",
     "text": [
      "keep up the good work,Naveen\n",
      "i am waiting to receive your todays submission,Naveen\n",
      "keep up the good work,Amer\n",
      "i am waiting to receive your todays submission,Amer\n",
      "keep up the good work,Udey\n",
      "i am waiting to receive your todays submission,Udey\n",
      "keep up the good work,Sameer\n",
      "i am waiting to receive your todays submission,Sameer\n",
      "keep up the good work,Anusha\n",
      "i am waiting to receive your todays submission,Anusha\n",
      "keep up the good work,Bushra\n",
      "i am waiting to receive your todays submission,Bushra\n",
      "keep up the good work,Kiran\n",
      "i am waiting to receive your todays submission,Kiran\n"
     ]
    }
   ],
   "source": [
    "for student in students:\n",
    "    print(f\"keep up the good work,{student.title()}\")\n",
    "    print(f\"i am waiting to receive your todays submission,{student.title()}\")"
   ]
  },
  {
   "cell_type": "code",
   "execution_count": 10,
   "id": "51fc3bd6-a1b3-4642-808d-876e552249ec",
   "metadata": {},
   "outputs": [
    {
     "name": "stdout",
     "output_type": "stream",
     "text": [
      "keep up the good work,Naveen\n",
      "i am waiting to receive your todays submission,Naveen\n",
      "\n",
      "keep up the good work,Amer\n",
      "i am waiting to receive your todays submission,Amer\n",
      "\n",
      "keep up the good work,Udey\n",
      "i am waiting to receive your todays submission,Udey\n",
      "\n",
      "keep up the good work,Sameer\n",
      "i am waiting to receive your todays submission,Sameer\n",
      "\n",
      "keep up the good work,Anusha\n",
      "i am waiting to receive your todays submission,Anusha\n",
      "\n",
      "keep up the good work,Bushra\n",
      "i am waiting to receive your todays submission,Bushra\n",
      "\n",
      "keep up the good work,Kiran\n",
      "i am waiting to receive your todays submission,Kiran\n",
      "\n"
     ]
    }
   ],
   "source": [
    "for student in students:\n",
    "    print(f\"keep up the good work,{student.title()}\")\n",
    "    print(f\"i am waiting to receive your todays submission,{student.title()}\\n\")"
   ]
  },
  {
   "cell_type": "code",
   "execution_count": 12,
   "id": "4a4569b7-9589-4a40-80f4-5ab40179b177",
   "metadata": {},
   "outputs": [
    {
     "name": "stdout",
     "output_type": "stream",
     "text": [
      "keep up the good work,Naveen\n",
      "i am waiting to receive your todays submission,Naveen\n",
      "\n",
      "keep up the good work,Amer\n",
      "i am waiting to receive your todays submission,Amer\n",
      "\n",
      "keep up the good work,Udey\n",
      "i am waiting to receive your todays submission,Udey\n",
      "\n",
      "keep up the good work,Sameer\n",
      "i am waiting to receive your todays submission,Sameer\n",
      "\n",
      "keep up the good work,Anusha\n",
      "i am waiting to receive your todays submission,Anusha\n",
      "\n",
      "keep up the good work,Bushra\n",
      "i am waiting to receive your todays submission,Bushra\n",
      "\n",
      "keep up the good work,Kiran\n",
      "i am waiting to receive your todays submission,Kiran\n",
      "\n",
      "Thank you all for showing intrest in learning python\n"
     ]
    }
   ],
   "source": [
    "for student in students:\n",
    "    print(f\"keep up the good work,{student.title()}\")\n",
    "    print(f\"i am waiting to receive your todays submission,{student.title()}\\n\")\n",
    "print(\"Thank you all for showing intrest in learning python\")    "
   ]
  },
  {
   "cell_type": "code",
   "execution_count": null,
   "id": "13bd304f-9e23-4d8a-bf02-6edb1b4cf102",
   "metadata": {},
   "outputs": [],
   "source": []
  },
  {
   "cell_type": "code",
   "execution_count": null,
   "id": "e591f135-1d25-435e-93f0-8d21a35e8db1",
   "metadata": {},
   "outputs": [],
   "source": []
  }
 ],
 "metadata": {
  "kernelspec": {
   "display_name": "Python 3 (ipykernel)",
   "language": "python",
   "name": "python3"
  },
  "language_info": {
   "codemirror_mode": {
    "name": "ipython",
    "version": 3
   },
   "file_extension": ".py",
   "mimetype": "text/x-python",
   "name": "python",
   "nbconvert_exporter": "python",
   "pygments_lexer": "ipython3",
   "version": "3.12.4"
  }
 },
 "nbformat": 4,
 "nbformat_minor": 5
}
