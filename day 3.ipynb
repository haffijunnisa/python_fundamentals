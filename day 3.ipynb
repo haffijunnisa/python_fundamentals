{
 "cells": [
  {
   "cell_type": "code",
   "execution_count": null,
   "id": "26b57218-435b-47b0-bbdd-97e7d3dcca2c",
   "metadata": {},
   "outputs": [],
   "source": [
    "introduction to f strings :\n"
   ]
  },
  {
   "cell_type": "code",
   "execution_count": null,
   "id": "973d50f5-8404-4f1f-8060-0030cd5cd40b",
   "metadata": {},
   "outputs": [],
   "source": [
    "# general syntax of f strings"
   ]
  },
  {
   "cell_type": "code",
   "execution_count": null,
   "id": "947c9777-05e8-42a2-aacf-d316f0d03ae1",
   "metadata": {},
   "outputs": [],
   "source": [
    "f\" custom message {place_holder_1} {place_holder_2}.......{place_holder_n}\""
   ]
  },
  {
   "cell_type": "code",
   "execution_count": 6,
   "id": "7baae1c3-15eb-4427-8d18-c0b918f9461b",
   "metadata": {},
   "outputs": [],
   "source": [
    "firstname = 'balu'\n",
    "lastname = 'arvind'"
   ]
  },
  {
   "cell_type": "code",
   "execution_count": 7,
   "id": "340bfbdf-1431-4700-acff-0d88cd6e8b18",
   "metadata": {},
   "outputs": [],
   "source": [
    "# i want to get the full name...........?"
   ]
  },
  {
   "cell_type": "code",
   "execution_count": 8,
   "id": "4ec3a1a6-64bc-4eee-94ec-dc828cb74c65",
   "metadata": {},
   "outputs": [
    {
     "name": "stdout",
     "output_type": "stream",
     "text": [
      "balu arvind\n"
     ]
    }
   ],
   "source": [
    "fullname = f\"{firstname} {lastname}\"\n",
    "print(fullname)"
   ]
  },
  {
   "cell_type": "code",
   "execution_count": 9,
   "id": "671aa8c3-04fe-4911-b96e-a6da38f770dc",
   "metadata": {},
   "outputs": [
    {
     "name": "stdout",
     "output_type": "stream",
     "text": [
      "Balu Arvind\n"
     ]
    }
   ],
   "source": [
    "print(fullname.title())"
   ]
  },
  {
   "cell_type": "code",
   "execution_count": 10,
   "id": "d343f80b-e756-4af2-8419-92c8c63311d1",
   "metadata": {},
   "outputs": [
    {
     "name": "stdout",
     "output_type": "stream",
     "text": [
      "BALU ARVIND\n"
     ]
    }
   ],
   "source": [
    "print(fullname.upper())"
   ]
  },
  {
   "cell_type": "code",
   "execution_count": 11,
   "id": "044f4955-0f46-448f-adab-f520205a4027",
   "metadata": {},
   "outputs": [
    {
     "name": "stdout",
     "output_type": "stream",
     "text": [
      "keep up the good work,Balu Arvind\n"
     ]
    }
   ],
   "source": [
    "message = f\"keep up the good work,{fullname.title()}\"\n",
    "print(message)"
   ]
  },
  {
   "cell_type": "code",
   "execution_count": null,
   "id": "a8dcc5e9-d576-4c42-99a2-d37ac2c2acc3",
   "metadata": {},
   "outputs": [],
   "source": [
    "adding whitespaces to strings : "
   ]
  },
  {
   "cell_type": "code",
   "execution_count": 12,
   "id": "692f1379-ed50-406c-a776-719cab3803dd",
   "metadata": {},
   "outputs": [
    {
     "name": "stdout",
     "output_type": "stream",
     "text": [
      "Favorite_programming_language:pythonc++javacpascalcobol\n"
     ]
    }
   ],
   "source": [
    "print(\"Favorite_programming_language:pythonc++javacpascalcobol\")"
   ]
  },
  {
   "cell_type": "code",
   "execution_count": 13,
   "id": "c3ebc735-4037-449d-af20-d43294b1e329",
   "metadata": {},
   "outputs": [
    {
     "name": "stdout",
     "output_type": "stream",
     "text": [
      "Favorite_programming_language:python\n",
      "c++\n",
      "java\n",
      "c\n",
      "pascal\n",
      "cobol\n"
     ]
    }
   ],
   "source": [
    "print(\"Favorite_programming_language:python\\nc++\\njava\\nc\\npascal\\ncobol\")"
   ]
  },
  {
   "cell_type": "code",
   "execution_count": 15,
   "id": "5c2630c0-329d-4dbe-a6a2-f55f4584b190",
   "metadata": {},
   "outputs": [
    {
     "name": "stdout",
     "output_type": "stream",
     "text": [
      "Favorite_programming_language:python\n",
      "\tc++\n",
      "\tjava\n",
      "\tc\n",
      "\tpascal\n",
      "\tcobol\n"
     ]
    }
   ],
   "source": [
    "print(\"Favorite_programming_language:python\\n\\tc++\\n\\tjava\\n\\tc\\n\\tpascal\\n\\tcobol\")"
   ]
  },
  {
   "cell_type": "code",
   "execution_count": null,
   "id": "337c47c1-53df-4c02-a411-feb826022490",
   "metadata": {},
   "outputs": [],
   "source": [
    "removing whitespaces from strings :"
   ]
  },
  {
   "cell_type": "code",
   "execution_count": 16,
   "id": "52954e21-108e-4852-99cd-2354b363df29",
   "metadata": {},
   "outputs": [
    {
     "name": "stdout",
     "output_type": "stream",
     "text": [
      "   python\n"
     ]
    }
   ],
   "source": [
    "name = '   python' #1st example ===> left side\n",
    "print(name)"
   ]
  },
  {
   "cell_type": "code",
   "execution_count": 17,
   "id": "475679cc-56b5-492c-b556-8ddf8a3f9c07",
   "metadata": {},
   "outputs": [
    {
     "name": "stdout",
     "output_type": "stream",
     "text": [
      "python\n"
     ]
    }
   ],
   "source": [
    "name2 = \"python\" #2nd example ===> no gap\n",
    "print(name2)"
   ]
  },
  {
   "cell_type": "code",
   "execution_count": 20,
   "id": "853e662b-c964-412c-9657-0f1be7243cc2",
   "metadata": {},
   "outputs": [
    {
     "name": "stdout",
     "output_type": "stream",
     "text": [
      "python  \n"
     ]
    }
   ],
   "source": [
    "name3 = \"python  \" #3 example ===> gap on right side\n",
    "print(name3)"
   ]
  },
  {
   "cell_type": "code",
   "execution_count": null,
   "id": "738eb47a-a8f0-42b8-8ecc-efac8d557ea0",
   "metadata": {},
   "outputs": [],
   "source": [
    "left strip ====> left\n",
    "right strip ===> right\n",
    "strip"
   ]
  },
  {
   "cell_type": "code",
   "execution_count": 22,
   "id": "d204d645-2388-4cdc-a758-cbafac64314c",
   "metadata": {},
   "outputs": [
    {
     "data": {
      "text/plain": [
       "'python'"
      ]
     },
     "execution_count": 22,
     "metadata": {},
     "output_type": "execute_result"
    }
   ],
   "source": [
    "name.lstrip()"
   ]
  },
  {
   "cell_type": "code",
   "execution_count": 23,
   "id": "ee19f0b4-ea46-485f-9244-efd0f9c22909",
   "metadata": {},
   "outputs": [
    {
     "data": {
      "text/plain": [
       "'python'"
      ]
     },
     "execution_count": 23,
     "metadata": {},
     "output_type": "execute_result"
    }
   ],
   "source": [
    "name3.rstrip()"
   ]
  },
  {
   "cell_type": "code",
   "execution_count": null,
   "id": "098ea810-bd11-490c-ac3d-d83d028f7415",
   "metadata": {},
   "outputs": [],
   "source": []
  },
  {
   "cell_type": "code",
   "execution_count": null,
   "id": "004018e0-f7c2-467a-8aac-baa504fab89e",
   "metadata": {},
   "outputs": [],
   "source": []
  }
 ],
 "metadata": {
  "kernelspec": {
   "display_name": "Python 3 (ipykernel)",
   "language": "python",
   "name": "python3"
  },
  "language_info": {
   "codemirror_mode": {
    "name": "ipython",
    "version": 3
   },
   "file_extension": ".py",
   "mimetype": "text/x-python",
   "name": "python",
   "nbconvert_exporter": "python",
   "pygments_lexer": "ipython3",
   "version": "3.12.4"
  }
 },
 "nbformat": 4,
 "nbformat_minor": 5
}
